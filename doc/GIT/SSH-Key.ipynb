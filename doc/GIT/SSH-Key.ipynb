{
  "cells": [
    {
      "cell_type": "markdown",
      "metadata": {},
      "source": [
        "# SSH Key erstelen und hinzufügen ([Youtube Tutorial](https://www.youtube.com/watch?v=WgZIv5HI44o))"
      ]
    },
    {
      "cell_type": "markdown",
      "metadata": {},
      "source": [
        "### Immer mit enter durchgehen. Also bei File, passphrase, .. \n",
        "\n",
        "\t1. Git bash öffnen\n",
        "\t2. ssh-keygen -t rsa -b 4096 -C \"tobias.koch@opitz-consulting.com\"\n",
        "\t3. eval $(ssh-agent -s)\n",
        "\t4. ssh-add ~/.ssh/id_rsa\n",
        "\t5. clip < ~/.ssh/id_rsa.pub (Kopiert den SSH Key)\n",
        "\t6. Open Git hub\n",
        "\t7. Profile picture -> Settings\n",
        "\t8. SSH and GPG keys\n",
        "\t9. New SSH Key\n",
        "\t10. Title: z. B Tobias Desktop\n",
        "    11. Paste SSH key\n",
        "    11. Danach testen ob es funktioniert mit: ssh -T git@github.com (yes auswählen)\n",
        "    12. Keine Fehlermeldung -> DONE!\n",
        "    \n",
        "    -> Danach sollte git clone (ssh-link einfügen) funktionieren\n",
        "\n",
        "\n",
        "### Wenn eine Fehlermeldung kommt, dann evtl. im .ssh Ordner config file erstellen:\n",
        "\t1. In den .ssh Ordner gehen (C -> Benutzer -> TKC -> .ssh)\n",
        "\t2. Rechtsklick Git Bash öffnen\n",
        "\t3. touch config\n",
        "\t4. nano config\n",
        "\t5. In die Datei schreiben: \n",
        "        Host github.com\n",
        "        Hostname ssh.github.com\n",
        "        Port 443\n",
        "\t6. Exit -> Speichern\n",
        "    \n",
        "Wieder testen mit: ssh -T git@github.com (mit yes bestätigen und enter)"
      ]
    },
    {
      "cell_type": "markdown",
      "metadata": {},
      "source": []
    }
  ],
  "metadata": {
    "kernel_info": {
      "name": "python38-azureml"
    },
    "kernelspec": {
      "display_name": "Python 3.9.13 ('MyWiki')",
      "language": "python",
      "name": "python3"
    },
    "language_info": {
      "codemirror_mode": {
        "name": "ipython",
        "version": 3
      },
      "file_extension": ".py",
      "mimetype": "text/x-python",
      "name": "python",
      "nbconvert_exporter": "python",
      "pygments_lexer": "ipython3",
      "version": "3.9.13"
    },
    "microsoft": {
      "host": {
        "AzureML": {
          "notebookHasBeenCompleted": true
        }
      }
    },
    "nteract": {
      "version": "nteract-front-end@1.0.0"
    },
    "vscode": {
      "interpreter": {
        "hash": "95a0bdeabbfddee3f7cdbca3e31471db181ec207a6579df6bce43ccb570fa94f"
      }
    }
  },
  "nbformat": 4,
  "nbformat_minor": 2
}
