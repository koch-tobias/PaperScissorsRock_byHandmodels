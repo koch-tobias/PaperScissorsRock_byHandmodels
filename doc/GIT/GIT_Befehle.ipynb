{
  "cells": [
    {
      "cell_type": "markdown",
      "metadata": {},
      "source": [
        "# Arbeiten mit GIT in VSC"
      ]
    },
    {
      "cell_type": "markdown",
      "metadata": {},
      "source": [
        "### Extensions: \n",
        "- Git Tree"
      ]
    },
    {
      "cell_type": "markdown",
      "metadata": {},
      "source": [
        "### Git Befehle (ausführen in VSC Powershell) [Git-Guide](https://thomas-leister.de/git-fuer-einsteiger/)"
      ]
    },
    {
      "cell_type": "markdown",
      "metadata": {},
      "source": [
        "#### Erstes aufsetzen von Git und der environtment"
      ]
    },
    {
      "cell_type": "markdown",
      "metadata": {},
      "source": [
        "- git clone https...\n",
        "- conda env create -f environment.yml"
      ]
    },
    {
      "cell_type": "markdown",
      "metadata": {},
      "source": [
        "#### Allgemein"
      ]
    },
    {
      "cell_type": "markdown",
      "metadata": {},
      "source": [
        "- Pfade löschen die nicht mehr existieren: \n",
        "    - git fetch --prune \n",
        "- Existierendes Repository clonen:\n",
        "    - git clone .. \n",
        "- Reset auf den Ursprungszustand einer Datei (Änderungen Rückgängig machen)\n",
        "    - git checkout -- meinedatei.txt\n",
        "- Eine irrtümlich zur Staging-Area hinzugefügte Datei wieder herausnehmen:\n",
        "    - git reset HEAD meinedatei.txt\n",
        "- Commit und Änderungen für Teamkollegen sichtbar machen\n",
        "    - git push\n",
        "- Lokale Codeversion aktualisierung\n",
        "    - git pull\n",
        "- Überblick über die geänderten Daten\n",
        "    - git status"
      ]
    },
    {
      "cell_type": "markdown",
      "metadata": {},
      "source": [
        "#### Branches"
      ]
    },
    {
      "cell_type": "markdown",
      "metadata": {},
      "source": [
        "- Branches runterholen:\n",
        "    - git fetch origin\n",
        "- zwischen branch wechseln:\n",
        "    - git checkout branch_name\n",
        "- Wenn man Änderungen an einem branch speichern will ohne diese zu committen:\n",
        "    - git stash\n",
        "    - git stash pop (wenn man wieder weiter arbeiten will)"
      ]
    },
    {
      "cell_type": "markdown",
      "metadata": {},
      "source": [
        "#### Git Workflow (normalerweise)"
      ]
    },
    {
      "cell_type": "markdown",
      "metadata": {},
      "source": [
        "    1. Aktuellen develop-Branch vom Server downloaden (vorher mit git status sicherstellen, dass man sich auf dem develop-Branch befindet. Wenn nicht: git checkout develop):\n",
        "        - git pull\n",
        "    2. Einen neuen Branch für das kommende Feature anlegen:\n",
        "        - git checkout -b meinfeature develop\n",
        "    3. [Änderungen am Code durchführen]\n",
        "    4. Geänderte und neue Dateien stagen:\n",
        "        - git add .\n",
        "    5. Änderungen committen:\n",
        "        - git commit -m \"Changes xyz\"\n",
        "    6. Jetzt den Branch auf den Server laden:\n",
        "        - git push -u origin meinfeature\n",
        "    7. (nochmals aktuellen Code ziehen - zur Sicherheit)\n",
        "        - git pull\n",
        "    8. Pull request stellen \n",
        "    Fertig :)"
      ]
    },
    {
      "cell_type": "markdown",
      "metadata": {},
      "source": []
    }
  ],
  "metadata": {
    "kernel_info": {
      "name": "python38-azureml"
    },
    "kernelspec": {
      "display_name": "Python 3.9.13 ('MyWiki')",
      "language": "python",
      "name": "python3"
    },
    "language_info": {
      "codemirror_mode": {
        "name": "ipython",
        "version": 3
      },
      "file_extension": ".py",
      "mimetype": "text/x-python",
      "name": "python",
      "nbconvert_exporter": "python",
      "pygments_lexer": "ipython3",
      "version": "3.9.13"
    },
    "microsoft": {
      "host": {
        "AzureML": {
          "notebookHasBeenCompleted": true
        }
      }
    },
    "nteract": {
      "version": "nteract-front-end@1.0.0"
    },
    "vscode": {
      "interpreter": {
        "hash": "95a0bdeabbfddee3f7cdbca3e31471db181ec207a6579df6bce43ccb570fa94f"
      }
    }
  },
  "nbformat": 4,
  "nbformat_minor": 2
}
