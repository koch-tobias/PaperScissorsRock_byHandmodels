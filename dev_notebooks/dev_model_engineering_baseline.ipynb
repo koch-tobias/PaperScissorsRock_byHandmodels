{
 "cells": [
  {
   "cell_type": "code",
   "execution_count": null,
   "metadata": {},
   "outputs": [],
   "source": []
  }
 ],
 "metadata": {
  "kernelspec": {
   "display_name": "Python 3.8.13 ('envPaperScissorsRock')",
   "language": "python",
   "name": "python3"
  },
  "language_info": {
   "name": "python",
   "version": "3.8.13"
  },
  "orig_nbformat": 4,
  "vscode": {
   "interpreter": {
    "hash": "246e1f8a7853b7843a5a4bae4dd15b195eef0a7489bca88a3b586940aa1ce5a6"
   }
  }
 },
 "nbformat": 4,
 "nbformat_minor": 2
}
